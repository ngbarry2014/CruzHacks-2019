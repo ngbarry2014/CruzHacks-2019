{
 "cells": [
  {
   "cell_type": "code",
   "execution_count": 249,
   "metadata": {},
   "outputs": [],
   "source": [
    "import pandas as pd\n",
    "import numpy as np\n",
    "from scipy import stats\n",
    "import matplotlib.pyplot as plt\n",
    "class CCException(Exception):\n",
    "    pass\n",
    "class CompatException(Exception):\n",
    "    pass\n",
    "class Check:\n",
    "    @staticmethod\n",
    "    def hasCCh(df):\n",
    "        temp = df.select_dtypes(exclude = float)\n",
    "        for i in temp.columns.values:\n",
    "            found = True\n",
    "            for j in temp[i]:\n",
    "                if (len(j) != 3):\n",
    "                    found = False\n",
    "            if (found == True):\n",
    "                return i\n",
    "        return None\n",
    "    @staticmethod\n",
    "    def hasCC(df):\n",
    "        if (Check.hasCCh(df) == None):\n",
    "            raise CCException('Data does not contain Country Code')\n",
    "    @staticmethod\n",
    "    def isCompatH(df1, df2):\n",
    "        tdf1 = df1.select_dtypes(exclude = float)\n",
    "        tdf2 = df2.select_dtypes(exclude = float)\n",
    "        i1 = Check.hasCCh(tdf1)\n",
    "        i2 = Check.hasCCh(tdf2)\n",
    "        tdf1 = tdf1.sort_values(i1)\n",
    "        tdf2 = tdf2.sort_values(i2)\n",
    "        a1 = tdf1[i1]\n",
    "        a2 = tdf2[i2]\n",
    "        if (a1.size != a2.size):\n",
    "            return False\n",
    "        for i in range(a1.size - 1):\n",
    "            if (a1.values[i] != a2.values[i]):\n",
    "                return False\n",
    "        return True\n",
    "    @staticmethod\n",
    "    def isCompat(df1, df2):\n",
    "        if (Check.isCompatH(df1, df2) == False):\n",
    "            raise CompatException('The two data sets do not contain the same countries')\n",
    "    @staticmethod\n",
    "    def clean(df):\n",
    "        temp = df.dropna(axis = 0)\n",
    "        Check.hasCC(temp)\n",
    "        return temp \n",
    "    @staticmethod\n",
    "    def getAverage(df):\n",
    "        temp = df.sort_values(Check.hasCCh(df))\n",
    "        temp = temp.set_index(temp[Check.hasCCh(df)])\n",
    "        temp = temp.select_dtypes(include = float)\n",
    "        temp['Average'] = temp.mean(axis=1)\n",
    "        return temp['Average']\n",
    "    @staticmethod\n",
    "    def merge(df1, df2, n1, n2):\n",
    "        Check.isCompat(df1, df2)\n",
    "        master = pd.DataFrame(index = df1[Check.hasCCh])\n",
    "        master[n1] = Check.getAverage(df1)\n",
    "        master[n2] = Check.getAverage(df2)\n",
    "        return master"
   ]
  },
  {
   "cell_type": "code",
   "execution_count": 250,
   "metadata": {},
   "outputs": [
    {
     "data": {
      "text/html": [
       "<div>\n",
       "<style scoped>\n",
       "    .dataframe tbody tr th:only-of-type {\n",
       "        vertical-align: middle;\n",
       "    }\n",
       "\n",
       "    .dataframe tbody tr th {\n",
       "        vertical-align: top;\n",
       "    }\n",
       "\n",
       "    .dataframe thead th {\n",
       "        text-align: right;\n",
       "    }\n",
       "</style>\n",
       "<table border=\"1\" class=\"dataframe\">\n",
       "  <thead>\n",
       "    <tr style=\"text-align: right;\">\n",
       "      <th></th>\n",
       "      <th>Life expectancy from last 5 years</th>\n",
       "      <th>Average GDP per capita from last 5 years</th>\n",
       "    </tr>\n",
       "    <tr>\n",
       "      <th>Country Code</th>\n",
       "      <th></th>\n",
       "      <th></th>\n",
       "    </tr>\n",
       "  </thead>\n",
       "  <tbody>\n",
       "    <tr>\n",
       "      <th>GBR</th>\n",
       "      <td>81.055488</td>\n",
       "      <td>43556.281337</td>\n",
       "    </tr>\n",
       "    <tr>\n",
       "      <th>USA</th>\n",
       "      <td>78.740854</td>\n",
       "      <td>55377.791998</td>\n",
       "    </tr>\n",
       "    <tr>\n",
       "      <th>DEU</th>\n",
       "      <td>80.715854</td>\n",
       "      <td>44532.492643</td>\n",
       "    </tr>\n",
       "    <tr>\n",
       "      <th>FRA</th>\n",
       "      <td>82.359146</td>\n",
       "      <td>39771.299610</td>\n",
       "    </tr>\n",
       "    <tr>\n",
       "      <th>RUS</th>\n",
       "      <td>71.020915</td>\n",
       "      <td>12059.662800</td>\n",
       "    </tr>\n",
       "    <tr>\n",
       "      <th>CHN</th>\n",
       "      <td>76.011250</td>\n",
       "      <td>7736.938467</td>\n",
       "    </tr>\n",
       "    <tr>\n",
       "      <th>ZAF</th>\n",
       "      <td>61.394500</td>\n",
       "      <td>6070.792016</td>\n",
       "    </tr>\n",
       "    <tr>\n",
       "      <th>JPN</th>\n",
       "      <td>83.674634</td>\n",
       "      <td>38025.986472</td>\n",
       "    </tr>\n",
       "    <tr>\n",
       "      <th>BRA</th>\n",
       "      <td>75.153000</td>\n",
       "      <td>10408.278147</td>\n",
       "    </tr>\n",
       "    <tr>\n",
       "      <th>VNM</th>\n",
       "      <td>75.955750</td>\n",
       "      <td>2029.797233</td>\n",
       "    </tr>\n",
       "    <tr>\n",
       "      <th>IND</th>\n",
       "      <td>68.149250</td>\n",
       "      <td>1587.927888</td>\n",
       "    </tr>\n",
       "    <tr>\n",
       "      <th>SDN</th>\n",
       "      <td>64.114250</td>\n",
       "      <td>2265.370413</td>\n",
       "    </tr>\n",
       "    <tr>\n",
       "      <th>COD</th>\n",
       "      <td>58.988750</td>\n",
       "      <td>471.840934</td>\n",
       "    </tr>\n",
       "    <tr>\n",
       "      <th>SAU</th>\n",
       "      <td>74.315250</td>\n",
       "      <td>22556.184133</td>\n",
       "    </tr>\n",
       "    <tr>\n",
       "      <th>NGA</th>\n",
       "      <td>52.770750</td>\n",
       "      <td>2762.368459</td>\n",
       "    </tr>\n",
       "    <tr>\n",
       "      <th>CAN</th>\n",
       "      <td>82.038659</td>\n",
       "      <td>47231.459882</td>\n",
       "    </tr>\n",
       "    <tr>\n",
       "      <th>KEN</th>\n",
       "      <td>66.405000</td>\n",
       "      <td>1345.443820</td>\n",
       "    </tr>\n",
       "    <tr>\n",
       "      <th>ISR</th>\n",
       "      <td>82.167073</td>\n",
       "      <td>36675.749205</td>\n",
       "    </tr>\n",
       "    <tr>\n",
       "      <th>IRN</th>\n",
       "      <td>75.575500</td>\n",
       "      <td>5414.646440</td>\n",
       "    </tr>\n",
       "    <tr>\n",
       "      <th>ARG</th>\n",
       "      <td>76.333250</td>\n",
       "      <td>12893.635328</td>\n",
       "    </tr>\n",
       "  </tbody>\n",
       "</table>\n",
       "</div>"
      ],
      "text/plain": [
       "              Life expectancy from last 5 years  \\\n",
       "Country Code                                      \n",
       "GBR                                   81.055488   \n",
       "USA                                   78.740854   \n",
       "DEU                                   80.715854   \n",
       "FRA                                   82.359146   \n",
       "RUS                                   71.020915   \n",
       "CHN                                   76.011250   \n",
       "ZAF                                   61.394500   \n",
       "JPN                                   83.674634   \n",
       "BRA                                   75.153000   \n",
       "VNM                                   75.955750   \n",
       "IND                                   68.149250   \n",
       "SDN                                   64.114250   \n",
       "COD                                   58.988750   \n",
       "SAU                                   74.315250   \n",
       "NGA                                   52.770750   \n",
       "CAN                                   82.038659   \n",
       "KEN                                   66.405000   \n",
       "ISR                                   82.167073   \n",
       "IRN                                   75.575500   \n",
       "ARG                                   76.333250   \n",
       "\n",
       "              Average GDP per capita from last 5 years  \n",
       "Country Code                                            \n",
       "GBR                                       43556.281337  \n",
       "USA                                       55377.791998  \n",
       "DEU                                       44532.492643  \n",
       "FRA                                       39771.299610  \n",
       "RUS                                       12059.662800  \n",
       "CHN                                        7736.938467  \n",
       "ZAF                                        6070.792016  \n",
       "JPN                                       38025.986472  \n",
       "BRA                                       10408.278147  \n",
       "VNM                                        2029.797233  \n",
       "IND                                        1587.927888  \n",
       "SDN                                        2265.370413  \n",
       "COD                                         471.840934  \n",
       "SAU                                       22556.184133  \n",
       "NGA                                        2762.368459  \n",
       "CAN                                       47231.459882  \n",
       "KEN                                        1345.443820  \n",
       "ISR                                       36675.749205  \n",
       "IRN                                        5414.646440  \n",
       "ARG                                       12893.635328  "
      ]
     },
     "execution_count": 250,
     "metadata": {},
     "output_type": "execute_result"
    }
   ],
   "source": [
    "lf = pd.read_csv('good life.csv')\n",
    "lf = Check.clean(lf)\n",
    "gdp = pd.read_csv('gdpc.csv')\n",
    "gdp = Check.clean(gdp)\n",
    "master = Check.merge(lf, gdp, 'Life expectancy from last 5 years', 'Average GDP per capita from last 5 years')\n",
    "temp = master.columns.values\n",
    "master"
   ]
  },
  {
   "cell_type": "code",
   "execution_count": 251,
   "metadata": {},
   "outputs": [
    {
     "name": "stdout",
     "output_type": "stream",
     "text": [
      "0.5806733722872396 0.5806733722872396\n"
     ]
    },
    {
     "data": {
      "image/png": "[encoded data removed]",
      "text/plain": [
       "<Figure size 432x288 with 1 Axes>"
      ]
     },
     "metadata": {
      "needs_background": "light"
     },
     "output_type": "display_data"
    }
   ],
   "source": [
    "slope, intercept, r_value, p_value, std_err = stats.linregress(x,y)\n",
    "ax = master.plot(kind = 'scatter', x = temp[0], y = temp[1])\n",
    "print (slope, r_value)"
   ]
  },
  {
   "cell_type": "code",
   "execution_count": 216,
   "metadata": {},
   "outputs": [
    {
     "data": {
      "text/plain": [
       "array(['Country Code', 'Life expectancy from last 5 years',\n",
       "       'Average GDP per capita from last 5 years'], dtype=object)"
      ]
     },
     "execution_count": 216,
     "metadata": {},
     "output_type": "execute_result"
    }
   ],
   "source": [
    "lf = pd.read_csv('better.csv')\n",
    "lf = Check.clean(lf)\n",
    "gdp = pd.read_csv('gdpc.csv')\n",
    "gdp = Check.clean(gdp)\n",
    "master = Check.merge(lf, gdp, 'Life expectancy from last 5 years', 'Average GDP per capita from last 5 years')\n",
    "temp2 = master.columns.values\n",
    "temp2"
   ]
  },
  {
   "cell_type": "code",
   "execution_count": null,
   "metadata": {},
   "outputs": [],
   "source": []
  },
  {
   "cell_type": "code",
   "execution_count": null,
   "metadata": {
    "scrolled": false
   },
   "outputs": [],
   "source": []
  },
  {
   "cell_type": "code",
   "execution_count": null,
   "metadata": {},
   "outputs": [],
   "source": []
  },
  {
   "cell_type": "code",
   "execution_count": null,
   "metadata": {},
   "outputs": [],
   "source": []
  },
  {
   "cell_type": "code",
   "execution_count": 3,
   "metadata": {},
   "outputs": [],
   "source": [
    "lf = pd.read_csv('good life.csv')\n",
    "lf = lf.dropna(axis=0)"
   ]
  },
  {
   "cell_type": "code",
   "execution_count": null,
   "metadata": {},
   "outputs": [],
   "source": [
    "\n"
   ]
  },
  {
   "cell_type": "code",
   "execution_count": 4,
   "metadata": {},
   "outputs": [],
   "source": [
    "tlf = lf[['2013 [YR2013]', '2014 [YR2014]', '2015 [YR2015]', '2016 [YR2016]']]"
   ]
  },
  {
   "cell_type": "code",
   "execution_count": 5,
   "metadata": {},
   "outputs": [],
   "source": [
    "lf['Average Life expectancy from last 5 years'] = tlf.mean(axis=1)\n"
   ]
  },
  {
   "cell_type": "code",
   "execution_count": 6,
   "metadata": {},
   "outputs": [],
   "source": [
    "lf = lf.sort_values('Country Code')\n"
   ]
  },
  {
   "cell_type": "code",
   "execution_count": 7,
   "metadata": {},
   "outputs": [],
   "source": [
    "df = df.sort_values('Country Code')\n"
   ]
  },
  {
   "cell_type": "code",
   "execution_count": null,
   "metadata": {},
   "outputs": [],
   "source": []
  },
  {
   "cell_type": "code",
   "execution_count": null,
   "metadata": {},
   "outputs": [],
   "source": [
    "\n"
   ]
  },
  {
   "cell_type": "code",
   "execution_count": null,
   "metadata": {},
   "outputs": [],
   "source": []
  },
  {
   "cell_type": "code",
   "execution_count": null,
   "metadata": {},
   "outputs": [],
   "source": []
  },
  {
   "cell_type": "code",
   "execution_count": null,
   "metadata": {},
   "outputs": [],
   "source": []
  },
  {
   "cell_type": "code",
   "execution_count": 8,
   "metadata": {},
   "outputs": [],
   "source": [
    "#x = master['Average Life expectancy from last 5 years']\n",
    "#y = master['Average Gdp per capita']\n",
    "#slope, intercept, r_value, p_value, std_err = stats.linregress(x,y)\n",
    "#print (r_value, std_err, slope)"
   ]
  },
  {
   "cell_type": "code",
   "execution_count": null,
   "metadata": {},
   "outputs": [],
   "source": []
  },
  {
   "cell_type": "code",
   "execution_count": null,
   "metadata": {},
   "outputs": [],
   "source": []
  }
 ],
 "metadata": {
  "kernelspec": {
   "display_name": "Python 3",
   "language": "python",
   "name": "python3"
  },
  "language_info": {
   "codemirror_mode": {
    "name": "ipython",
    "version": 3
   },
   "file_extension": ".py",
   "mimetype": "text/x-python",
   "name": "python",
   "nbconvert_exporter": "python",
   "pygments_lexer": "ipython3",
   "version": "3.7.1"
  }
 },
 "nbformat": 4,
 "nbformat_minor": 2
}
